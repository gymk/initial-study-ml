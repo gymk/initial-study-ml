{
 "cells": [
  {
   "cell_type": "markdown",
   "metadata": {},
   "source": [
    "# Explore HTML Tables\n",
    "\n",
    "- skillsoft.com : Data Gathering course practice exercise\n",
    "    - Find a web page or HTML document containing a table element. Then Open the web page using Python and use Python's Beautiful Soup library to extract and output the first table element and its contents.\n",
    "    \n",
    "- for this activity, I will be using top5anaything.com, which gives a table listing top 5 of our interest\n",
    "- Will be using\n",
    "    - urllib to download the HTML doc\n",
    "    - BeautifulSoup for pasing the HTML doc\n",
    "    - find() to find the first table in the doc\n",
    "        - find_all() if we want to find all the tables in the HTML5 document"
   ]
  },
  {
   "cell_type": "code",
   "execution_count": 1,
   "metadata": {},
   "outputs": [],
   "source": [
    "# Import urllib for downloading web page\n",
    "from urllib.request import urlopen"
   ]
  },
  {
   "cell_type": "code",
   "execution_count": 2,
   "metadata": {},
   "outputs": [],
   "source": [
    "# Download the web page\n",
    "with urlopen('https://top5ofanything.com/list/32e2b2b9/Largest-Fish-in-the-World') as response:\n",
    "    source = response.read()\n",
    "#print(source)"
   ]
  },
  {
   "cell_type": "code",
   "execution_count": 3,
   "metadata": {},
   "outputs": [],
   "source": [
    "# Import BeautilSoup for parsing the page\n",
    "from bs4 import BeautifulSoup"
   ]
  },
  {
   "cell_type": "code",
   "execution_count": 4,
   "metadata": {},
   "outputs": [],
   "source": [
    "# Parse the HTML doc using BeautifulSoup\n",
    "# We can use parser that is off interest\n",
    "\n",
    "#soup = BeautifulSoup(source) # using default parser \n",
    "#soup = BeautifulSoup(source,'html.parser') # using html.parser\n",
    "soup = BeautifulSoup(source,'lxml')\n",
    "#print(soup.prettify())"
   ]
  },
  {
   "cell_type": "code",
   "execution_count": 5,
   "metadata": {},
   "outputs": [
    {
     "name": "stdout",
     "output_type": "stream",
     "text": [
      "<table class=\"list_table\" id=\"t5_table\">\n",
      " <thead>\n",
      "  <tr>\n",
      "   <th class=\"th1\" style=\"text-align:center;\">\n",
      "   </th>\n",
      "   <th class=\"first-col\">\n",
      "    Fish\n",
      "   </th>\n",
      "   <th class=\"\">\n",
      "    Scientific Name\n",
      "   </th>\n",
      "   <th class=\"\">\n",
      "    Maximum Length\n",
      "   </th>\n",
      "   <th class=\"last-col\">\n",
      "    Maximum Weight\n",
      "   </th>\n",
      "  </tr>\n",
      " </thead>\n",
      " <tbody>\n",
      "  <tr>\n",
      "   <td class=\"td1 \">\n",
      "    1\n",
      "   </td>\n",
      "   <td class=\"td2 \">\n",
      "    Whale Shark\n",
      "   </td>\n",
      "   <td class=\"\">\n",
      "    Rhincodon Typus\n",
      "   </td>\n",
      "   <td class=\"\">\n",
      "    16.0 metres\n",
      "   </td>\n",
      "   <td class=\" last-col\">\n",
      "    34.0 tonnes\n",
      "   </td>\n",
      "  </tr>\n",
      "  <tr>\n",
      "   <td class=\"td1 \">\n",
      "    2\n",
      "   </td>\n",
      "   <td class=\"td2 \">\n",
      "    Giant Manta\n",
      "   </td>\n",
      "   <td class=\"\">\n",
      "    Manta Birostris\n",
      "   </td>\n",
      "   <td class=\"\">\n",
      "    9.1 metres\n",
      "   </td>\n",
      "   <td class=\" last-col\">\n",
      "    3.0 tonnes\n",
      "   </td>\n",
      "  </tr>\n",
      "  <tr>\n",
      "   <td class=\"td1 \">\n",
      "    3\n",
      "   </td>\n",
      "   <td class=\"td2 \">\n",
      "    Basking shark\n",
      "   </td>\n",
      "   <td class=\"\">\n",
      "    Cetorhinus Maximus\n",
      "   </td>\n",
      "   <td class=\"\">\n",
      "    9.0 metres\n",
      "   </td>\n",
      "   <td class=\" last-col\">\n",
      "    4.0 tonnes\n",
      "   </td>\n",
      "  </tr>\n",
      "  <tr>\n",
      "   <td class=\"td1 \">\n",
      "    4\n",
      "   </td>\n",
      "   <td class=\"td2 \">\n",
      "    Beluga Sturgeon\n",
      "   </td>\n",
      "   <td class=\"\">\n",
      "    Huso Huso\n",
      "   </td>\n",
      "   <td class=\"\">\n",
      "    8.0 metres\n",
      "   </td>\n",
      "   <td class=\" last-col\">\n",
      "    3.2 tonnes\n",
      "   </td>\n",
      "  </tr>\n",
      "  <tr>\n",
      "   <td class=\"td1 last-row\">\n",
      "    5\n",
      "   </td>\n",
      "   <td class=\"td2 last-row\">\n",
      "    King of Herrings\n",
      "   </td>\n",
      "   <td class=\"last-row\">\n",
      "    Regalecus Glesne\n",
      "   </td>\n",
      "   <td class=\"last-row\">\n",
      "    8.0 metres\n",
      "   </td>\n",
      "   <td class=\"last-row last-col\">\n",
      "    0.272 tonnes\n",
      "   </td>\n",
      "  </tr>\n",
      " </tbody>\n",
      "</table>\n",
      "\n"
     ]
    }
   ],
   "source": [
    "# Selecting first table found in our HTML doc\n",
    "first_table = soup.find('table')\n",
    "print(first_table.prettify())"
   ]
  },
  {
   "cell_type": "code",
   "execution_count": null,
   "metadata": {},
   "outputs": [],
   "source": []
  }
 ],
 "metadata": {
  "kernelspec": {
   "display_name": "Python 3",
   "language": "python",
   "name": "python3"
  },
  "language_info": {
   "codemirror_mode": {
    "name": "ipython",
    "version": 3
   },
   "file_extension": ".py",
   "mimetype": "text/x-python",
   "name": "python",
   "nbconvert_exporter": "python",
   "pygments_lexer": "ipython3",
   "version": "3.6.6"
  }
 },
 "nbformat": 4,
 "nbformat_minor": 2
}
